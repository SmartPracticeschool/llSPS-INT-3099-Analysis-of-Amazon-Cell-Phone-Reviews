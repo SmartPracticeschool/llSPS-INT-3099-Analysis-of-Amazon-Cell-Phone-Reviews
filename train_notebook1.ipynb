{
 "cells": [
  {
   "cell_type": "code",
   "execution_count": 1,
   "metadata": {},
   "outputs": [],
   "source": [
    "#importing libraries\n",
    "import pandas as pd\n",
    "import numpy as np\n",
    "import matplotlib as plt\n",
    "import nltk\n",
    "import re\n"
   ]
  },
  {
   "cell_type": "code",
   "execution_count": 2,
   "metadata": {},
   "outputs": [],
   "source": [
    "#importing the dataset\n",
    "dataset=pd.read_csv(r\"D:\\intern_project\\amazonreviews.tsv\",delimiter='\\t',quoting=3)\n"
   ]
  },
  {
   "cell_type": "code",
   "execution_count": 3,
   "metadata": {},
   "outputs": [
    {
     "name": "stdout",
     "output_type": "stream",
     "text": [
      "asin            False\n",
      "name             True\n",
      "rating          False\n",
      "date            False\n",
      "verified        False\n",
      "title            True\n",
      "body             True\n",
      "helpfulVotes     True\n",
      "dtype: bool\n"
     ]
    }
   ],
   "source": [
    "#checking for null values\n",
    "print(dataset.isnull().any())\n"
   ]
  },
  {
   "cell_type": "code",
   "execution_count": 4,
   "metadata": {},
   "outputs": [],
   "source": [
    "#dropping unwanted columns\n",
    "dataset=dataset.drop(columns =['name', 'date','asin','helpfulVotes'],axis=1) \n"
   ]
  },
  {
   "cell_type": "code",
   "execution_count": 5,
   "metadata": {},
   "outputs": [],
   "source": [
    "l1=dataset['rating'].tolist()\n",
    "new_column=[]\n",
    "for i in l1:\n",
    "    if i>=3:\n",
    "        new_column.append(1)\n",
    "    else:\n",
    "        new_column.append(0)\n"
   ]
  },
  {
   "cell_type": "code",
   "execution_count": 6,
   "metadata": {},
   "outputs": [],
   "source": [
    "#converting above list into dataframe\n",
    "df=pd.DataFrame(new_column,columns=['liked_or_not'])\n"
   ]
  },
  {
   "cell_type": "code",
   "execution_count": 7,
   "metadata": {},
   "outputs": [
    {
     "name": "stdout",
     "output_type": "stream",
     "text": [
      "rating           0\n",
      "verified         0\n",
      "title           14\n",
      "body            21\n",
      "liked_or_not     0\n",
      "dtype: int64\n"
     ]
    }
   ],
   "source": [
    "#adding new column to dataset\n",
    "dataset['liked_or_not']=df['liked_or_not']\n",
    "\n",
    "print(dataset.isnull().sum())\n",
    "\n"
   ]
  },
  {
   "cell_type": "code",
   "execution_count": 8,
   "metadata": {},
   "outputs": [],
   "source": [
    "#dropping columns with null values\n",
    "dataset.dropna(inplace=True)\n"
   ]
  },
  {
   "cell_type": "code",
   "execution_count": 9,
   "metadata": {},
   "outputs": [],
   "source": [
    "#removing unverified reviews\n",
    "dataset['verified'].replace([False],[np.nan],inplace=True)\n",
    "\n",
    "dataset.dropna(inplace=True)\n"
   ]
  },
  {
   "cell_type": "code",
   "execution_count": 10,
   "metadata": {},
   "outputs": [],
   "source": [
    "#combining title abd body columns to form a new column \"review\"\n",
    "dataset['Review'] = dataset[['title', 'body',]].agg(' '.join, axis=1)\n"
   ]
  },
  {
   "cell_type": "code",
   "execution_count": 11,
   "metadata": {},
   "outputs": [],
   "source": [
    "#dropping unwanted columns\n",
    "dataset.drop(columns=['title','body','verified','rating'],inplace=True)\n"
   ]
  },
  {
   "cell_type": "code",
   "execution_count": 12,
   "metadata": {},
   "outputs": [],
   "source": [
    "#selecting review column for textprocessing\n",
    "x=dataset.iloc[:,1].values\n"
   ]
  },
  {
   "cell_type": "code",
   "execution_count": 13,
   "metadata": {},
   "outputs": [
    {
     "name": "stderr",
     "output_type": "stream",
     "text": [
      "[nltk_data] Downloading package stopwords to\n",
      "[nltk_data]     C:\\Users\\admin\\AppData\\Roaming\\nltk_data...\n",
      "[nltk_data]   Package stopwords is already up-to-date!\n"
     ]
    }
   ],
   "source": [
    "# text processing\n",
    "\n",
    "from nltk.stem.porter import PorterStemmer\n",
    "from nltk.corpus import stopwords\n",
    "nltk.download('stopwords')\n",
    "new_dtst=[]\n",
    "for i in range(len(x)):\n",
    "    review=re.sub('[^a-zA-Z]','',str(x[i]))\n",
    "    review=review.lower()\n",
    "    review=review.split()\n",
    "    review=[word for word in review if not word in set(stopwords.words('english'))]\n",
    "    p=PorterStemmer()\n",
    "    review=[p.stem(word) for word in review if not word in set(stopwords.words('english'))]\n",
    "    review=''.join(review)\n",
    "    new_dtst.append(review)\n",
    "    \n"
   ]
  },
  {
   "cell_type": "code",
   "execution_count": 14,
   "metadata": {},
   "outputs": [],
   "source": [
    "#Creating \"Bag of Words\"\n",
    "from sklearn.feature_extraction.text import CountVectorizer\n",
    "cv=CountVectorizer(max_features=1500)\n",
    "p=cv.fit_transform(new_dtst).toarray()\n",
    "q=dataset.iloc[:,0:1].values\n"
   ]
  },
  {
   "cell_type": "code",
   "execution_count": 15,
   "metadata": {},
   "outputs": [],
   "source": [
    "#splitting the data into testset and trainset\n",
    "from sklearn.model_selection import train_test_split\n",
    "x_train,x_test,y_train,y_test=train_test_split(p,q,test_size=0.2,random_state=0)\n"
   ]
  },
  {
   "cell_type": "code",
   "execution_count": 16,
   "metadata": {},
   "outputs": [
    {
     "name": "stderr",
     "output_type": "stream",
     "text": [
      "Using TensorFlow backend.\n",
      "C:\\Users\\admin\\anaconda3\\lib\\site-packages\\tensorflow\\python\\framework\\dtypes.py:516: FutureWarning: Passing (type, 1) or '1type' as a synonym of type is deprecated; in a future version of numpy, it will be understood as (type, (1,)) / '(1,)type'.\n",
      "  _np_qint8 = np.dtype([(\"qint8\", np.int8, 1)])\n",
      "C:\\Users\\admin\\anaconda3\\lib\\site-packages\\tensorflow\\python\\framework\\dtypes.py:517: FutureWarning: Passing (type, 1) or '1type' as a synonym of type is deprecated; in a future version of numpy, it will be understood as (type, (1,)) / '(1,)type'.\n",
      "  _np_quint8 = np.dtype([(\"quint8\", np.uint8, 1)])\n",
      "C:\\Users\\admin\\anaconda3\\lib\\site-packages\\tensorflow\\python\\framework\\dtypes.py:518: FutureWarning: Passing (type, 1) or '1type' as a synonym of type is deprecated; in a future version of numpy, it will be understood as (type, (1,)) / '(1,)type'.\n",
      "  _np_qint16 = np.dtype([(\"qint16\", np.int16, 1)])\n",
      "C:\\Users\\admin\\anaconda3\\lib\\site-packages\\tensorflow\\python\\framework\\dtypes.py:519: FutureWarning: Passing (type, 1) or '1type' as a synonym of type is deprecated; in a future version of numpy, it will be understood as (type, (1,)) / '(1,)type'.\n",
      "  _np_quint16 = np.dtype([(\"quint16\", np.uint16, 1)])\n",
      "C:\\Users\\admin\\anaconda3\\lib\\site-packages\\tensorflow\\python\\framework\\dtypes.py:520: FutureWarning: Passing (type, 1) or '1type' as a synonym of type is deprecated; in a future version of numpy, it will be understood as (type, (1,)) / '(1,)type'.\n",
      "  _np_qint32 = np.dtype([(\"qint32\", np.int32, 1)])\n",
      "C:\\Users\\admin\\anaconda3\\lib\\site-packages\\tensorflow\\python\\framework\\dtypes.py:525: FutureWarning: Passing (type, 1) or '1type' as a synonym of type is deprecated; in a future version of numpy, it will be understood as (type, (1,)) / '(1,)type'.\n",
      "  np_resource = np.dtype([(\"resource\", np.ubyte, 1)])\n",
      "C:\\Users\\admin\\anaconda3\\lib\\site-packages\\tensorboard\\compat\\tensorflow_stub\\dtypes.py:541: FutureWarning: Passing (type, 1) or '1type' as a synonym of type is deprecated; in a future version of numpy, it will be understood as (type, (1,)) / '(1,)type'.\n",
      "  _np_qint8 = np.dtype([(\"qint8\", np.int8, 1)])\n",
      "C:\\Users\\admin\\anaconda3\\lib\\site-packages\\tensorboard\\compat\\tensorflow_stub\\dtypes.py:542: FutureWarning: Passing (type, 1) or '1type' as a synonym of type is deprecated; in a future version of numpy, it will be understood as (type, (1,)) / '(1,)type'.\n",
      "  _np_quint8 = np.dtype([(\"quint8\", np.uint8, 1)])\n",
      "C:\\Users\\admin\\anaconda3\\lib\\site-packages\\tensorboard\\compat\\tensorflow_stub\\dtypes.py:543: FutureWarning: Passing (type, 1) or '1type' as a synonym of type is deprecated; in a future version of numpy, it will be understood as (type, (1,)) / '(1,)type'.\n",
      "  _np_qint16 = np.dtype([(\"qint16\", np.int16, 1)])\n",
      "C:\\Users\\admin\\anaconda3\\lib\\site-packages\\tensorboard\\compat\\tensorflow_stub\\dtypes.py:544: FutureWarning: Passing (type, 1) or '1type' as a synonym of type is deprecated; in a future version of numpy, it will be understood as (type, (1,)) / '(1,)type'.\n",
      "  _np_quint16 = np.dtype([(\"quint16\", np.uint16, 1)])\n",
      "C:\\Users\\admin\\anaconda3\\lib\\site-packages\\tensorboard\\compat\\tensorflow_stub\\dtypes.py:545: FutureWarning: Passing (type, 1) or '1type' as a synonym of type is deprecated; in a future version of numpy, it will be understood as (type, (1,)) / '(1,)type'.\n",
      "  _np_qint32 = np.dtype([(\"qint32\", np.int32, 1)])\n",
      "C:\\Users\\admin\\anaconda3\\lib\\site-packages\\tensorboard\\compat\\tensorflow_stub\\dtypes.py:550: FutureWarning: Passing (type, 1) or '1type' as a synonym of type is deprecated; in a future version of numpy, it will be understood as (type, (1,)) / '(1,)type'.\n",
      "  np_resource = np.dtype([(\"resource\", np.ubyte, 1)])\n"
     ]
    }
   ],
   "source": [
    "#model building\n",
    "\n",
    "#importing libraries for building the model\n",
    "import keras\n",
    "from keras.models import Sequential\n",
    "from keras.layers import Dense\n",
    "\n"
   ]
  },
  {
   "cell_type": "code",
   "execution_count": 17,
   "metadata": {},
   "outputs": [
    {
     "name": "stdout",
     "output_type": "stream",
     "text": [
      "WARNING:tensorflow:From C:\\Users\\admin\\anaconda3\\lib\\site-packages\\keras\\backend\\tensorflow_backend.py:74: The name tf.get_default_graph is deprecated. Please use tf.compat.v1.get_default_graph instead.\n",
      "\n"
     ]
    }
   ],
   "source": [
    "#initialising the model\n",
    "model=Sequential()\n"
   ]
  },
  {
   "cell_type": "code",
   "execution_count": 18,
   "metadata": {},
   "outputs": [
    {
     "name": "stderr",
     "output_type": "stream",
     "text": [
      "C:\\Users\\admin\\anaconda3\\lib\\site-packages\\ipykernel_launcher.py:2: UserWarning: Update your `Dense` call to the Keras 2 API: `Dense(units=100, activation=\"relu\", kernel_initializer=\"random_uniform\")`\n",
      "  \n",
      "C:\\Users\\admin\\anaconda3\\lib\\site-packages\\ipykernel_launcher.py:4: UserWarning: Update your `Dense` call to the Keras 2 API: `Dense(units=30, activation=\"relu\", kernel_initializer=\"random_uniform\")`\n",
      "  after removing the cwd from sys.path.\n"
     ]
    }
   ],
   "source": [
    "#adding input layer to the model\n",
    "model.add(Dense(units=100,init='random_uniform',activation='relu'))\n",
    "#adding hidden layer\n",
    "model.add(Dense(units=30,init='random_uniform',activation='relu'))\n",
    "#adding output layer\n",
    "model.add(Dense(units=1,activation='sigmoid'))\n"
   ]
  },
  {
   "cell_type": "code",
   "execution_count": 19,
   "metadata": {},
   "outputs": [
    {
     "name": "stdout",
     "output_type": "stream",
     "text": [
      "WARNING:tensorflow:From C:\\Users\\admin\\anaconda3\\lib\\site-packages\\keras\\optimizers.py:790: The name tf.train.Optimizer is deprecated. Please use tf.compat.v1.train.Optimizer instead.\n",
      "\n"
     ]
    }
   ],
   "source": [
    "#configuring the learning process\n",
    "model.compile(optimizer='adam',loss='binary_crossentropy',metrics=['accuracy'])\n"
   ]
  },
  {
   "cell_type": "code",
   "execution_count": 20,
   "metadata": {},
   "outputs": [
    {
     "name": "stdout",
     "output_type": "stream",
     "text": [
      "WARNING:tensorflow:From C:\\Users\\admin\\anaconda3\\lib\\site-packages\\keras\\backend\\tensorflow_backend.py:517: The name tf.placeholder is deprecated. Please use tf.compat.v1.placeholder instead.\n",
      "\n",
      "WARNING:tensorflow:From C:\\Users\\admin\\anaconda3\\lib\\site-packages\\keras\\backend\\tensorflow_backend.py:4138: The name tf.random_uniform is deprecated. Please use tf.random.uniform instead.\n",
      "\n",
      "WARNING:tensorflow:From C:\\Users\\admin\\anaconda3\\lib\\site-packages\\keras\\backend\\tensorflow_backend.py:3376: The name tf.log is deprecated. Please use tf.math.log instead.\n",
      "\n",
      "WARNING:tensorflow:From C:\\Users\\admin\\anaconda3\\lib\\site-packages\\tensorflow\\python\\ops\\nn_impl.py:180: add_dispatch_support.<locals>.wrapper (from tensorflow.python.ops.array_ops) is deprecated and will be removed in a future version.\n",
      "Instructions for updating:\n",
      "Use tf.where in 2.0, which has the same broadcast rule as np.where\n",
      "WARNING:tensorflow:From C:\\Users\\admin\\anaconda3\\lib\\site-packages\\keras\\backend\\tensorflow_backend.py:986: The name tf.assign_add is deprecated. Please use tf.compat.v1.assign_add instead.\n",
      "\n",
      "Epoch 1/50\n",
      "48958/48958 [==============================] - 10s 198us/step - loss: 0.5347 - acc: 0.7664\n",
      "Epoch 2/50\n",
      "48958/48958 [==============================] - 8s 159us/step - loss: 0.5181 - acc: 0.7691\n",
      "Epoch 3/50\n",
      "48958/48958 [==============================] - 8s 164us/step - loss: 0.5137 - acc: 0.7760\n",
      "Epoch 4/50\n",
      "48958/48958 [==============================] - 8s 161us/step - loss: 0.5108 - acc: 0.7762\n",
      "Epoch 5/50\n",
      "48958/48958 [==============================] - 8s 157us/step - loss: 0.5095 - acc: 0.7762\n",
      "Epoch 6/50\n",
      "48958/48958 [==============================] - 8s 160us/step - loss: 0.5090 - acc: 0.7762\n",
      "Epoch 7/50\n",
      "48958/48958 [==============================] - 8s 172us/step - loss: 0.5082 - acc: 0.7762\n",
      "Epoch 8/50\n",
      "48958/48958 [==============================] - 8s 165us/step - loss: 0.5081 - acc: 0.7762\n",
      "Epoch 9/50\n",
      "48958/48958 [==============================] - 8s 161us/step - loss: 0.5082 - acc: 0.7762\n",
      "Epoch 10/50\n",
      "48958/48958 [==============================] - 8s 163us/step - loss: 0.5082 - acc: 0.7762\n",
      "Epoch 11/50\n",
      "48958/48958 [==============================] - 8s 163us/step - loss: 0.5079 - acc: 0.7762\n",
      "Epoch 12/50\n",
      "48958/48958 [==============================] - 8s 160us/step - loss: 0.5079 - acc: 0.7762\n",
      "Epoch 13/50\n",
      "48958/48958 [==============================] - 8s 161us/step - loss: 0.5078 - acc: 0.7762\n",
      "Epoch 14/50\n",
      "48958/48958 [==============================] - 8s 171us/step - loss: 0.5078 - acc: 0.7762\n",
      "Epoch 15/50\n",
      "48958/48958 [==============================] - 8s 159us/step - loss: 0.5079 - acc: 0.7762\n",
      "Epoch 16/50\n",
      "48958/48958 [==============================] - 8s 159us/step - loss: 0.5078 - acc: 0.7762\n",
      "Epoch 17/50\n",
      "48958/48958 [==============================] - 8s 155us/step - loss: 0.5076 - acc: 0.7762\n",
      "Epoch 18/50\n",
      "48958/48958 [==============================] - 8s 172us/step - loss: 0.5081 - acc: 0.7762\n",
      "Epoch 19/50\n",
      "48958/48958 [==============================] - 8s 156us/step - loss: 0.5079 - acc: 0.7762\n",
      "Epoch 20/50\n",
      "48958/48958 [==============================] - 8s 161us/step - loss: 0.5078 - acc: 0.7762\n",
      "Epoch 21/50\n",
      "48958/48958 [==============================] - 8s 164us/step - loss: 0.5077 - acc: 0.7762\n",
      "Epoch 22/50\n",
      "48958/48958 [==============================] - 11s 228us/step - loss: 0.5079 - acc: 0.7762\n",
      "Epoch 23/50\n",
      "48958/48958 [==============================] - 9s 182us/step - loss: 0.5076 - acc: 0.7762\n",
      "Epoch 24/50\n",
      "48958/48958 [==============================] - 9s 181us/step - loss: 0.5078 - acc: 0.7762\n",
      "Epoch 25/50\n",
      "48958/48958 [==============================] - 10s 195us/step - loss: 0.5078 - acc: 0.7762\n",
      "Epoch 26/50\n",
      "48958/48958 [==============================] - 9s 178us/step - loss: 0.5078 - acc: 0.7762\n",
      "Epoch 27/50\n",
      "48958/48958 [==============================] - 8s 172us/step - loss: 0.5078 - acc: 0.7762\n",
      "Epoch 28/50\n",
      "48958/48958 [==============================] - 8s 162us/step - loss: 0.5078 - acc: 0.7762\n",
      "Epoch 29/50\n",
      "48958/48958 [==============================] - 8s 163us/step - loss: 0.5077 - acc: 0.7762\n",
      "Epoch 30/50\n",
      "48958/48958 [==============================] - 8s 155us/step - loss: 0.5077 - acc: 0.7762\n",
      "Epoch 31/50\n",
      "48958/48958 [==============================] - 8s 158us/step - loss: 0.5078 - acc: 0.7762\n",
      "Epoch 32/50\n",
      "48958/48958 [==============================] - 8s 166us/step - loss: 0.5077 - acc: 0.7762\n",
      "Epoch 33/50\n",
      "48958/48958 [==============================] - 8s 164us/step - loss: 0.5077 - acc: 0.7762\n",
      "Epoch 34/50\n",
      "48958/48958 [==============================] - 7s 151us/step - loss: 0.5075 - acc: 0.7762\n",
      "Epoch 35/50\n",
      "48958/48958 [==============================] - 8s 166us/step - loss: 0.5077 - acc: 0.7762\n",
      "Epoch 36/50\n",
      "48958/48958 [==============================] - 9s 174us/step - loss: 0.5076 - acc: 0.7762\n",
      "Epoch 37/50\n",
      "48958/48958 [==============================] - 8s 167us/step - loss: 0.5076 - acc: 0.7762\n",
      "Epoch 38/50\n",
      "48958/48958 [==============================] - 8s 158us/step - loss: 0.5076 - acc: 0.7762\n",
      "Epoch 39/50\n",
      "48958/48958 [==============================] - 8s 165us/step - loss: 0.5076 - acc: 0.7762\n",
      "Epoch 40/50\n",
      "48958/48958 [==============================] - 8s 167us/step - loss: 0.5076 - acc: 0.7762\n",
      "Epoch 41/50\n",
      "48958/48958 [==============================] - 8s 160us/step - loss: 0.5076 - acc: 0.7762\n",
      "Epoch 42/50\n",
      "48958/48958 [==============================] - 9s 177us/step - loss: 0.5075 - acc: 0.7762\n",
      "Epoch 43/50\n",
      "48958/48958 [==============================] - 8s 162us/step - loss: 0.5074 - acc: 0.7762\n",
      "Epoch 44/50\n",
      "48958/48958 [==============================] - 8s 163us/step - loss: 0.5077 - acc: 0.7762\n",
      "Epoch 45/50\n",
      "48958/48958 [==============================] - 9s 189us/step - loss: 0.5075 - acc: 0.7762\n",
      "Epoch 46/50\n",
      "48958/48958 [==============================] - 8s 173us/step - loss: 0.5075 - acc: 0.7762\n",
      "Epoch 47/50\n",
      "48958/48958 [==============================] - 9s 190us/step - loss: 0.5074 - acc: 0.7762\n",
      "Epoch 48/50\n",
      "48958/48958 [==============================] - 9s 184us/step - loss: 0.5075 - acc: 0.7762\n",
      "Epoch 49/50\n",
      "48958/48958 [==============================] - 9s 178us/step - loss: 0.5075 - acc: 0.7762\n",
      "Epoch 50/50\n",
      "48958/48958 [==============================] - 9s 193us/step - loss: 0.5075 - acc: 0.7762\n"
     ]
    },
    {
     "data": {
      "text/plain": [
       "<keras.callbacks.History at 0x1f003ee0608>"
      ]
     },
     "execution_count": 20,
     "metadata": {},
     "output_type": "execute_result"
    }
   ],
   "source": [
    "#training the model\n",
    "model.fit(x_train,y_train,epochs=50,batch_size=32)\n",
    "\n"
   ]
  },
  {
   "cell_type": "code",
   "execution_count": 21,
   "metadata": {},
   "outputs": [],
   "source": [
    "y_pred=model.predict(x_test)\n",
    "y_pred=(y_pred>0.5)\n",
    "from sklearn.metrics import accuracy_score\n",
    "accuracy=accuracy_score(y_test,y_pred)"
   ]
  },
  {
   "cell_type": "code",
   "execution_count": 22,
   "metadata": {},
   "outputs": [
    {
     "data": {
      "text/plain": [
       "0.7857843137254902"
      ]
     },
     "execution_count": 22,
     "metadata": {},
     "output_type": "execute_result"
    }
   ],
   "source": [
    "accuracy"
   ]
  },
  {
   "cell_type": "code",
   "execution_count": 23,
   "metadata": {},
   "outputs": [],
   "source": [
    "import pickle\n",
    "pickle.dump(cv,open('count_vec.pkl','wb'))\n"
   ]
  },
  {
   "cell_type": "code",
   "execution_count": 24,
   "metadata": {},
   "outputs": [],
   "source": [
    "#saving the model\n",
    "model.save(\"my_model.h5\")\n"
   ]
  },
  {
   "cell_type": "code",
   "execution_count": null,
   "metadata": {},
   "outputs": [],
   "source": []
  }
 ],
 "metadata": {
  "kernelspec": {
   "display_name": "Python 3",
   "language": "python",
   "name": "python3"
  },
  "language_info": {
   "codemirror_mode": {
    "name": "ipython",
    "version": 3
   },
   "file_extension": ".py",
   "mimetype": "text/x-python",
   "name": "python",
   "nbconvert_exporter": "python",
   "pygments_lexer": "ipython3",
   "version": "3.7.6"
  }
 },
 "nbformat": 4,
 "nbformat_minor": 4
}
